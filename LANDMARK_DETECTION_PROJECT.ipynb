{
 "cells": [
  {
   "cell_type": "code",
   "execution_count": 1,
   "id": "faf30136",
   "metadata": {},
   "outputs": [
    {
     "name": "stdout",
     "output_type": "stream",
     "text": [
      "WARNING:tensorflow:From C:\\Users\\PURNA TEJITHA\\anaconda3\\Lib\\site-packages\\keras\\src\\losses.py:2976: The name tf.losses.sparse_softmax_cross_entropy is deprecated. Please use tf.compat.v1.losses.sparse_softmax_cross_entropy instead.\n",
      "\n"
     ]
    }
   ],
   "source": [
    "import numpy as np\n",
    "import pandas as pd\n",
    "import random\n",
    "import keras\n",
    "import tensorflow as tfw\n",
    "import os\n",
    "from matplotlib import pyplot as plt\n",
    "from PIL import Image"
   ]
  },
  {
   "cell_type": "code",
   "execution_count": 1,
   "id": "b17aaa26",
   "metadata": {},
   "outputs": [],
   "source": [
    "samples=20000\n",
    "df=pd.read_csv(\"train.csv\")\n",
    "df"
   ]
  },
  {
   "cell_type": "code",
   "execution_count": null,
   "id": "2cad15d5",
   "metadata": {},
   "outputs": [],
   "source": [
    "df1=pd.read_csv(\"train (1).csv\")\n",
    "df1"
   ]
  },
  {
   "cell_type": "code",
   "execution_count": null,
   "id": "a1db2f6a",
   "metadata": {},
   "outputs": [],
   "source": [
    "df1.drop(labels=\"url\")"
   ]
  },
  {
   "cell_type": "code",
   "execution_count": null,
   "id": "a49332ca",
   "metadata": {},
   "outputs": [],
   "source": [
    "df=df.loc[df[\"id\"].str.startswith(('b1','00'),na=False),:]\n",
    "num_classes=len(df[\"landmark_id\"].unique())\n",
    "num_data=len(df)"
   ]
  },
  {
   "cell_type": "code",
   "execution_count": null,
   "id": "1b07ab72",
   "metadata": {},
   "outputs": [],
   "source": [
    "num_classes"
   ]
  },
  {
   "cell_type": "code",
   "execution_count": null,
   "id": "c9498f78",
   "metadata": {},
   "outputs": [],
   "source": [
    "num_data"
   ]
  },
  {
   "cell_type": "code",
   "execution_count": null,
   "id": "fc8c3831",
   "metadata": {},
   "outputs": [],
   "source": [
    "data=pd.DataFrame(df[\"landmark_id\"].value_counts())\n",
    "data.reset_index(inplace=True)"
   ]
  },
  {
   "cell_type": "code",
   "execution_count": null,
   "id": "e02bc3d0",
   "metadata": {},
   "outputs": [],
   "source": [
    "data.head()"
   ]
  },
  {
   "cell_type": "code",
   "execution_count": null,
   "id": "3700ca43",
   "metadata": {},
   "outputs": [],
   "source": [
    "data.tail()"
   ]
  },
  {
   "cell_type": "code",
   "execution_count": null,
   "id": "757a2503",
   "metadata": {},
   "outputs": [],
   "source": [
    "data.columns=['landmark_id','count']"
   ]
  },
  {
   "cell_type": "code",
   "execution_count": null,
   "id": "1e5f4127",
   "metadata": {},
   "outputs": [],
   "source": [
    "data['count'].describe()"
   ]
  },
  {
   "cell_type": "code",
   "execution_count": null,
   "id": "458a9c3b",
   "metadata": {},
   "outputs": [],
   "source": [
    "data"
   ]
  },
  {
   "cell_type": "code",
   "execution_count": null,
   "id": "a5bc5286",
   "metadata": {},
   "outputs": [],
   "source": [
    "data['count'].describe()"
   ]
  },
  {
   "cell_type": "code",
   "execution_count": null,
   "id": "68f21674",
   "metadata": {},
   "outputs": [],
   "source": [
    "plt.hist(data['count'],100,range=(0,64),label='tset')"
   ]
  },
  {
   "cell_type": "code",
   "execution_count": null,
   "id": "94ab4e8d",
   "metadata": {},
   "outputs": [],
   "source": [
    "data['count'].between(0,5).sum()"
   ]
  },
  {
   "cell_type": "code",
   "execution_count": null,
   "id": "21263a99",
   "metadata": {},
   "outputs": [],
   "source": [
    "data['count'].between(5,10).sum()"
   ]
  },
  {
   "cell_type": "code",
   "execution_count": null,
   "id": "6db51fe0",
   "metadata": {},
   "outputs": [],
   "source": [
    "data['count'].between(10,15).sum()"
   ]
  },
  {
   "cell_type": "code",
   "execution_count": null,
   "id": "698a3716",
   "metadata": {},
   "outputs": [],
   "source": [
    "plt.hist(df['landmark_id'], bins=len(df['landmark_id'].unique()))"
   ]
  },
  {
   "cell_type": "code",
   "execution_count": null,
   "id": "267a7c11",
   "metadata": {},
   "outputs": [],
   "source": [
    "from sklearn.preprocessing import LabelEncoder\n",
    "labelencoder = LabelEncoder()\n",
    "labelencoder.fit(df['landmark_id'])"
   ]
  },
  {
   "cell_type": "code",
   "execution_count": null,
   "id": "82394ae4",
   "metadata": {},
   "outputs": [],
   "source": [
    "df"
   ]
  },
  {
   "cell_type": "code",
   "execution_count": null,
   "id": "779538b6",
   "metadata": {},
   "outputs": [],
   "source": [
    "def encode_label(label):\n",
    "    return labelencoder.transform(label)"
   ]
  },
  {
   "cell_type": "code",
   "execution_count": null,
   "id": "89c0078d",
   "metadata": {},
   "outputs": [],
   "source": [
    "def decode_label(label):\n",
    "    return labelencoder.inverse_transform(label)"
   ]
  },
  {
   "cell_type": "code",
   "execution_count": null,
   "id": "ca9822ca",
   "metadata": {},
   "outputs": [],
   "source": [
    "def get_img_from_num(num,df):\n",
    "    fname,label=df.iloc[num,:]\n",
    "    f1=fname[0]\n",
    "    f2=fname[1]\n",
    "    f3=fname[2]\n",
    "    path=os.path.join(\"./images\",f1,f2,f3,fname)\n",
    "    img=cv2.imread(path)\n",
    "    return img,label"
   ]
  },
  {
   "cell_type": "code",
   "execution_count": null,
   "id": "190deaa9",
   "metadata": {},
   "outputs": [],
   "source": [
    "fig=plt.figure(figsize=(16,16))\n",
    "for i in range(1,7):\n",
    "    rimg=random.choices(os.listdir(\"./images\"),k=3)\n",
    "    print(rimg)\n",
    "    folder=\"./images\" + \"/\" +\"0\"+\"/\"+\"i\"+\"/\"+rimg[2]\n",
    "    random_img=random.choice(os.listdir(folder))\n",
    "    img=np.array(Image.open(folder+\"/\"+random_img))\n",
    "    fig.add_subplot(1,4,i)\n",
    "    plt.imshow(img)\n",
    "    plt.axis('off')\n",
    "plt.show\n",
    "    "
   ]
  },
  {
   "cell_type": "markdown",
   "id": "b3f1a676",
   "metadata": {},
   "source": [
    "# Build the model"
   ]
  },
  {
   "cell_type": "code",
   "execution_count": null,
   "id": "a9a0ec04",
   "metadata": {},
   "outputs": [],
   "source": [
    "import tensorflow as tfw\n",
    "from keras.applications.vgg19 import VGG19\n",
    "from keras.layers import *\n",
    "from keras import Sequential\n",
    "tfw.compat.v1.disable_eager_execution"
   ]
  },
  {
   "cell_type": "code",
   "execution_count": null,
   "id": "016dbbd2",
   "metadata": {},
   "outputs": [],
   "source": [
    "learning_rate = 0.0001\n",
    "decay_speed = 1e-6\n",
    "momentum = 0.09\n",
    "loss_function = \"sparse_categorical_crossentropy\"\n",
    "source_model = VGG19(weights=None)\n",
    "drop_layer = Dropout(0.5)\n",
    "drop_layer2 = Dropout(0.5)"
   ]
  },
  {
   "cell_type": "code",
   "execution_count": null,
   "id": "7add40ef",
   "metadata": {
    "scrolled": false
   },
   "outputs": [],
   "source": [
    "model=Sequential()\n",
    "for layer in source_model.layers[:-1]:\n",
    "    if layer == source_model.layers[-25]:\n",
    "        model.add(BatchNormalization())\n",
    "    model.add(layer)\n",
    "model.add(Dense(num_classes,activation=\"softmax\"))\n",
    "model.summary()"
   ]
  },
  {
   "cell_type": "code",
   "execution_count": null,
   "id": "905662cf",
   "metadata": {},
   "outputs": [],
   "source": [
    "from keras.optimizers import RMSprop\n",
    "model.compile(optimizer=RMSprop(learning_rate=learning_rate),\n",
    "              loss=loss_function,\n",
    "              metrics=['accuracy'])\n"
   ]
  },
  {
   "cell_type": "code",
   "execution_count": null,
   "id": "c892ed49",
   "metadata": {},
   "outputs": [],
   "source": [
    "def image_reshape(img,size):\n",
    "    return cv2.resize(img,size)"
   ]
  },
  {
   "cell_type": "code",
   "execution_count": null,
   "id": "18860f7c",
   "metadata": {},
   "outputs": [],
   "source": [
    "def get_batch(dataframe,start,batch_size):\n",
    "    image_array=[]\n",
    "    label_array=[]\n",
    "    end_image=start+batch_size\n",
    "    if(end_image)>len(dataframe):\n",
    "        end_image=len(dataframe)\n",
    "    for idx in range(start,end_image):\n",
    "        n=idx\n",
    "        img,label=get_img_from_num(n,dataframe)\n",
    "        img=image_reshape(img,(224,224))/255.0\n",
    "        image_array.append(img)\n",
    "        label_array.append(label)\n",
    "    label_array=encode_label(label_array)\n",
    "    return np.array(image_array),np.array(label_array)"
   ]
  },
  {
   "cell_type": "code",
   "execution_count": null,
   "id": "a331a9ad",
   "metadata": {},
   "outputs": [],
   "source": [
    "batch_size=64\n",
    "epoch_shuffle=True\n",
    "weight_classes=True\n",
    "epochs=1\n",
    "\n",
    "train,val = np.split(df.sample(frac=1),[int(0.8*len(df))])\n",
    "print(len(train))\n",
    "print(len(val))"
   ]
  },
  {
   "cell_type": "code",
   "execution_count": null,
   "id": "b9c17867",
   "metadata": {},
   "outputs": [],
   "source": [
    "for e in range(epochs):\n",
    "    print(\"Epoch :\" + str(e+1) + \"/\" + str(epochs))\n",
    "    if epoch_shuffle:\n",
    "        train=train.sample(frac=1)\n",
    "    for it in range(int(np.ceil(len(train)/batch_size))):\n",
    "        X_train,y_train=get_batch(train,it*batch_size,batch_size)\n",
    "        \n",
    "        model.fit(X_train, y_train, batch_size=batch_size)"
   ]
  },
  {
   "cell_type": "code",
   "execution_count": null,
   "id": "86515f15",
   "metadata": {},
   "outputs": [],
   "source": [
    "batch_size = 16\n",
    "errors = 0\n",
    "good_preds = []\n",
    "bad_preds = []\n",
    "\n",
    "for it in range(int(np.ceil(len(val) / batch_size))):\n",
    "    x_val, y_val = get_batch(val, it * batch_size, batch_size)\n",
    "    result = model.predict(x_val)\n",
    "    cla = np.argmax(result, axis=1)\n",
    "    for idx, res in enumerate(result):\n",
    "        if cla[idx] != y_val[idx]:\n",
    "            errors += 1\n",
    "            bad_preds.append([batch_size * it + idx, cla[idx], res[cla[idx]]])\n",
    "        else:\n",
    "            good_preds.append([batch_size * it + idx, cla[idx], res[cla[idx]]])\n"
   ]
  },
  {
   "cell_type": "code",
   "execution_count": null,
   "id": "79b3b129",
   "metadata": {},
   "outputs": [],
   "source": []
  }
 ],
 "metadata": {
  "kernelspec": {
   "display_name": "Python 3 (ipykernel)",
   "language": "python",
   "name": "python3"
  },
  "language_info": {
   "codemirror_mode": {
    "name": "ipython",
    "version": 3
   },
   "file_extension": ".py",
   "mimetype": "text/x-python",
   "name": "python",
   "nbconvert_exporter": "python",
   "pygments_lexer": "ipython3",
   "version": "3.11.4"
  }
 },
 "nbformat": 4,
 "nbformat_minor": 5
}
